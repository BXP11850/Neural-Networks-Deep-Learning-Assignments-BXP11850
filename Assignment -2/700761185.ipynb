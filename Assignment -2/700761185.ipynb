{
  "nbformat": 4,
  "nbformat_minor": 0,
  "metadata": {
    "colab": {
      "provenance": []
    },
    "kernelspec": {
      "name": "python3",
      "display_name": "Python 3"
    },
    "language_info": {
      "name": "python"
    }
  },
  "cells": [
    {
      "cell_type": "code",
      "source": [
        "class Employee:\n",
        "    # Data member to count the number of Employees and to keep track of total salary\n",
        "    employee_count = 0\n",
        "    total_salary = 0\n",
        "\n",
        "    def __init__(self, name, family, salary, department):\n",
        "        # Initialize instance variables\n",
        "        self.name = name\n",
        "        self.family = family\n",
        "        self.salary = salary\n",
        "        self.department = department\n",
        "        # Update class-level data members\n",
        "        Employee.employee_count += 1\n",
        "        Employee.total_salary += salary\n",
        "\n",
        "    @classmethod\n",
        "    def average_salary(cls):\n",
        "        # Calculate and return average salary\n",
        "        if cls.employee_count > 0:\n",
        "            return cls.total_salary / cls.employee_count\n",
        "        return 0\n",
        "\n",
        "    def display_employee(self):\n",
        "        # Return a string with employee details\n",
        "        return f\"Employee: {self.name}, Family: {self.family}, Department: {self.department}, Salary: {self.salary}\"\n",
        "\n",
        "class FulltimeEmployee(Employee):\n",
        "    def __init__(self, name, family, salary, department):\n",
        "        # Call the parent class constructor\n",
        "        super().__init__(name, family, salary, department)\n",
        "\n",
        "# Creating instances of Employee and FulltimeEmployee with new names\n",
        "emp1 = Employee(\"Michael\", \"Green\", 55000, \"HR\")\n",
        "emp2 = Employee(\"Emily\", \"Adams\", 65000, \"Finance\")\n",
        "ft_emp1 = FulltimeEmployee(\"David\", \"Miller\", 75000, \"IT\")\n",
        "ft_emp2 = FulltimeEmployee(\"Sophia\", \"Wilson\", 85000, \"Marketing\")\n",
        "\n",
        "# Displaying information for each employee\n",
        "print(emp1.display_employee())\n",
        "print(emp2.display_employee())\n",
        "print(ft_emp1.display_employee())\n",
        "print(ft_emp2.display_employee())\n",
        "\n",
        "# Displaying average salary and total number of employees\n",
        "print(f\"Average Salary of Employees: {Employee.average_salary()}\")\n",
        "print(f\"Total Number of Employees: {Employee.employee_count}\")"
      ],
      "metadata": {
        "colab": {
          "base_uri": "https://localhost:8080/"
        },
        "id": "bbxFWVllKOlg",
        "outputId": "1fa70e18-8522-4448-9ed6-f3e5c056b4ad"
      },
      "execution_count": 11,
      "outputs": [
        {
          "output_type": "stream",
          "name": "stdout",
          "text": [
            "Employee: Michael, Family: Green, Department: HR, Salary: 55000\n",
            "Employee: Emily, Family: Adams, Department: Finance, Salary: 65000\n",
            "Employee: David, Family: Miller, Department: IT, Salary: 75000\n",
            "Employee: Sophia, Family: Wilson, Department: Marketing, Salary: 85000\n",
            "Average Salary of Employees: 70000.0\n",
            "Total Number of Employees: 4\n"
          ]
        }
      ]
    },
    {
      "cell_type": "code",
      "source": [
        "import numpy as np\n",
        "\n",
        "# Step 1: Create a random vector of size 20 with floats in the range 1-20\n",
        "random_vector = np.random.uniform(1, 20, 20)\n",
        "\n",
        "# Step 2: Reshape the array to 4x5\n",
        "reshaped_array = random_vector.reshape(4, 5)\n",
        "\n",
        "# Step 3: Replace the max value in each row by 0\n",
        "# Find the indices of the max values in each row\n",
        "max_indices = np.argmax(reshaped_array, axis=1)\n",
        "\n",
        "# Create a mask that is True for the max values\n",
        "mask = np.zeros_like(reshaped_array, dtype=bool)\n",
        "rows = np.arange(reshaped_array.shape[0])\n",
        "mask[rows, max_indices] = True\n",
        "\n",
        "# Replace the max values with 0 using the mask\n",
        "reshaped_array[mask] = 0\n",
        "\n",
        "# Display the resulting array\n",
        "print(\"Modified Array:\\n\", reshaped_array)"
      ],
      "metadata": {
        "id": "oUCU4HP9ME0_"
      },
      "execution_count": null,
      "outputs": []
    }
  ]
}